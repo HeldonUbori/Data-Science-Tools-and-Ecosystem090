{
  "metadata": {
    "language_info": {
      "codemirror_mode": {
        "name": "python",
        "version": 3
      },
      "file_extension": ".py",
      "mimetype": "text/x-python",
      "name": "python",
      "nbconvert_exporter": "python",
      "pygments_lexer": "ipython3",
      "version": "3.8"
    },
    "kernelspec": {
      "name": "python",
      "display_name": "Python (Pyodide)",
      "language": "python"
    }
  },
  "nbformat_minor": 4,
  "nbformat": 4,
  "cells": [
    {
      "cell_type": "code",
      "source": "# Data Science Tools and Ecosystem",
      "metadata": {},
      "execution_count": null,
      "outputs": []
    },
    {
      "cell_type": "markdown",
      "source": "# Data Science Tools and Ecosystem",
      "metadata": {}
    },
    {
      "cell_type": "code",
      "source": "### In this notebook, Data Science Tools and Ecosystem are summarized.",
      "metadata": {},
      "execution_count": null,
      "outputs": []
    },
    {
      "cell_type": "markdown",
      "source": "### In this notebook, Data Science Tools and Ecosystem are summarized.\n",
      "metadata": {}
    },
    {
      "cell_type": "code",
      "source": "Some of the popular languages that Data Scientists use are:\n1. Python\n2. R\n3. SQL",
      "metadata": {},
      "execution_count": null,
      "outputs": []
    },
    {
      "cell_type": "markdown",
      "source": "Some of the popular languages that Data Scientists use are:\n1. Python\n2. R\n3. SQL",
      "metadata": {}
    },
    {
      "cell_type": "code",
      "source": "### Some of the commonly used libraries used by Data Scientists include:\n\n1. NumPy\n2. Pandas\n3. Matplotlib\n4. Scikit-learn",
      "metadata": {},
      "execution_count": null,
      "outputs": []
    },
    {
      "cell_type": "markdown",
      "source": "### Some of the commonly used libraries used by Data Scientists include:\n\n1. NumPy\n2. Pandas\n3. Matplotlib\n4. Scikit-learn\n",
      "metadata": {}
    },
    {
      "cell_type": "markdown",
      "source": "<table style=\"float: left;\">\n  <tr>\n    <th>Data Science Tools</th>\n  </tr>\n  <tr>\n    <td>Jupyter Notebook</td>\n  </tr>\n  <tr>\n    <td>RStudio</td>\n  </tr>\n  <tr>\n    <td>Spyder</td>\n  </tr>\n</table>\n",
      "metadata": {}
    },
    {
      "cell_type": "markdown",
      "source": "<table style=\"float: left;\">\n  <tr>\n    <th>Data Science Tools</th>\n  </tr>\n  <tr>\n    <td>Jupyter Notebook</td>\n  </tr>\n  <tr>\n    <td>RStudio</td>\n  </tr>\n  <tr>\n    <td>Spyder</td>\n  </tr>\n</table>\n",
      "metadata": {}
    },
    {
      "cell_type": "code",
      "source": "### Below are a few examples of evaluating arithmetic expressions in Python.",
      "metadata": {},
      "execution_count": null,
      "outputs": []
    },
    {
      "cell_type": "markdown",
      "source": "### Below are a few examples of evaluating arithmetic expressions in Python.",
      "metadata": {}
    },
    {
      "cell_type": "code",
      "source": "### This a simple arithmetic expression to multiply then add integers.\nresult = (3 * 4) + 5\nprint(result)",
      "metadata": {
        "trusted": true
      },
      "execution_count": 6,
      "outputs": [
        {
          "name": "stdout",
          "text": "17\n",
          "output_type": "stream"
        }
      ]
    },
    {
      "cell_type": "code",
      "source": "# This will convert 200 minutes to hours by dividing by 60.\n200/60\n",
      "metadata": {
        "trusted": true
      },
      "execution_count": 7,
      "outputs": [
        {
          "execution_count": 7,
          "output_type": "execute_result",
          "data": {
            "text/plain": "3.3333333333333335"
          },
          "metadata": {}
        }
      ]
    },
    {
      "cell_type": "code",
      "source": "**Objectives:**\n- Identify popular languages for Data Science\n- Recognize commonly used libraries in Data Science\n- Understand development environment open source tools used in Data Science\n- Perform arithmetic operations in Python\n- Convert time units between minutes and hours",
      "metadata": {},
      "execution_count": null,
      "outputs": []
    },
    {
      "cell_type": "markdown",
      "source": "**Objectives:**\n- Identify popular languages for Data Science\n- Recognize commonly used libraries in Data Science\n- Understand development environment open source tools used in Data Science\n- Perform arithmetic operations in Python\n- Convert time units between minutes and hours",
      "metadata": {}
    },
    {
      "cell_type": "code",
      "source": "## Author\nSalvador Holden Rubio",
      "metadata": {},
      "execution_count": null,
      "outputs": []
    },
    {
      "cell_type": "markdown",
      "source": "## Author\nSalvador Holden Rubio",
      "metadata": {}
    },
    {
      "cell_type": "code",
      "source": "",
      "metadata": {},
      "execution_count": null,
      "outputs": []
    }
  ]
}